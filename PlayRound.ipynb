{
 "cells": [
  {
   "cell_type": "code",
   "execution_count": 1,
   "id": "35387a71-0791-468d-94fa-988e2dcdb8df",
   "metadata": {},
   "outputs": [],
   "source": [
    "import pickle as pkl\n",
    "import os.path as osp\n",
    "import sys\n",
    "import datetime\n",
    "\n",
    "sys.path.append('src/')"
   ]
  },
  {
   "cell_type": "code",
   "execution_count": 2,
   "id": "ccacea99-a55b-402e-ab17-e84650f419cf",
   "metadata": {},
   "outputs": [],
   "source": [
    "def save_game(game_str, force=False):\n",
    "    game_file = osp.join('data', 'games', 'games_played.csv')\n",
    "    with open(game_file) as gf:\n",
    "        for line in gf:\n",
    "            if line == game_str and not force:\n",
    "                print(\"Duplicate game detected. Won't enter unless force set to True\")\n",
    "                return -1\n",
    "    with open(game_file, 'a') as gf:\n",
    "        gf.write(game_str)\n",
    "    return 0"
   ]
  },
  {
   "cell_type": "code",
   "execution_count": 3,
   "id": "7ffabba2-500c-4817-9b21-bfb5ec0349b9",
   "metadata": {},
   "outputs": [
    {
     "name": "stdout",
     "output_type": "stream",
     "text": [
      "Duplicate game detected. Won't enter unless force set to True\n"
     ]
    },
    {
     "data": {
      "text/plain": [
       "-1"
      ]
     },
     "execution_count": 3,
     "metadata": {},
     "output_type": "execute_result"
    }
   ],
   "source": [
    "course = pkl.load(open(osp.join(\"data\", \n",
    "                                \"courses\", \n",
    "                                \"Northwest_Inner_9.pkl\"), \"rb\"))\n",
    "alt_course = pkl.load(open(osp.join(\"data\", \n",
    "                                \"courses\", \n",
    "                                \"Needwood_Executive_9.pkl\"), \"rb\"))\n",
    "first_game_time = datetime.datetime(2022, 12, 30, 10, 0)\n",
    "second_game_time = datetime.datetime(2023, 1, 7, 10, 30)\n",
    "third_game_time = datetime.datetime(2023, 1, 14, 11, 30)\n",
    "fourth_game_time = datetime.datetime(2023, 1, 15, 13, 30)\n",
    "\n",
    "first_game_scores = [7, 8, 8, 6, 5, 8, 7, 5, 8]\n",
    "secon_game_scores = [8, 6, 7, 8, 5, 8, 6, 3, 8]\n",
    "third_game_scores = [6, 7, 8, 6, 4, 7, 6, 4, 6]\n",
    "fourth_game_scores = [4, 5, 6, 6, 6, 5, 7, 8, 6]\n",
    "\n",
    "first_game_data = course.play('jt', first_game_scores, \n",
    "                              first_game_time, ttt=33)\n",
    "second_game_data = course.play('jt', secon_game_scores,\n",
    "                               second_game_time, ttt=34)\n",
    "third_game_data = course.play('jt', third_game_scores,\n",
    "                              third_game_time, ttt=22)\n",
    "fourth_game_data = alt_course.play('jt', fourth_game_scores,\n",
    "                               fourth_game_time, ttt=42)\n",
    "save_game(first_game_data)"
   ]
  },
  {
   "cell_type": "code",
   "execution_count": 4,
   "id": "bd2b2cd9-4326-4fee-9d97-9b17d57d959e",
   "metadata": {},
   "outputs": [
    {
     "name": "stdout",
     "output_type": "stream",
     "text": [
      "Duplicate game detected. Won't enter unless force set to True\n"
     ]
    },
    {
     "data": {
      "text/plain": [
       "-1"
      ]
     },
     "execution_count": 4,
     "metadata": {},
     "output_type": "execute_result"
    }
   ],
   "source": [
    "save_game(second_game_data)"
   ]
  },
  {
   "cell_type": "code",
   "execution_count": 5,
   "id": "13420ac4-6941-4927-b131-fe3dc7cc16d5",
   "metadata": {},
   "outputs": [
    {
     "name": "stdout",
     "output_type": "stream",
     "text": [
      "Duplicate game detected. Won't enter unless force set to True\n"
     ]
    },
    {
     "data": {
      "text/plain": [
       "-1"
      ]
     },
     "execution_count": 5,
     "metadata": {},
     "output_type": "execute_result"
    }
   ],
   "source": [
    "save_game(third_game_data)"
   ]
  },
  {
   "cell_type": "code",
   "execution_count": 7,
   "id": "79475924-eacc-44e8-98c3-3c05b5238496",
   "metadata": {},
   "outputs": [
    {
     "data": {
      "text/plain": [
       "0"
      ]
     },
     "execution_count": 7,
     "metadata": {},
     "output_type": "execute_result"
    }
   ],
   "source": [
    "save_game(fourth_game_data)"
   ]
  },
  {
   "cell_type": "code",
   "execution_count": null,
   "id": "3ff9393d-2565-410c-b42b-f75351cfdaaf",
   "metadata": {},
   "outputs": [],
   "source": []
  }
 ],
 "metadata": {
  "kernelspec": {
   "display_name": "Python 3 (ipykernel)",
   "language": "python",
   "name": "python3"
  },
  "language_info": {
   "codemirror_mode": {
    "name": "ipython",
    "version": 3
   },
   "file_extension": ".py",
   "mimetype": "text/x-python",
   "name": "python",
   "nbconvert_exporter": "python",
   "pygments_lexer": "ipython3",
   "version": "3.9.13"
  }
 },
 "nbformat": 4,
 "nbformat_minor": 5
}
