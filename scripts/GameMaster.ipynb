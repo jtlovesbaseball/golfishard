{
 "cells": [
  {
   "cell_type": "code",
   "execution_count": 1,
   "id": "35387a71-0791-468d-94fa-988e2dcdb8df",
   "metadata": {},
   "outputs": [],
   "source": [
    "import pickle as pkl\n",
    "import os.path as osp\n",
    "import sys\n",
    "import datetime\n",
    "\n",
    "sys.path.append('src/')\n",
    "\n",
    "from util import analyze"
   ]
  },
  {
   "cell_type": "code",
   "execution_count": 2,
   "id": "ccacea99-a55b-402e-ab17-e84650f419cf",
   "metadata": {},
   "outputs": [],
   "source": [
    "def save_game(game_str, force=False):\n",
    "    game_file = osp.join('data', 'games', 'games_played.csv')\n",
    "    with open(game_file) as gf:\n",
    "        for line in gf:\n",
    "            if line == game_str and not force:\n",
    "                print(\"Duplicate game detected. Won't enter unless force set to True\")\n",
    "                return -1\n",
    "    with open(game_file, 'a') as gf:\n",
    "        gf.write(game_str)\n",
    "    return 0"
   ]
  },
  {
   "cell_type": "code",
   "execution_count": 3,
   "id": "7ffabba2-500c-4817-9b21-bfb5ec0349b9",
   "metadata": {},
   "outputs": [
    {
     "name": "stdout",
     "output_type": "stream",
     "text": [
      "Duplicate game detected. Won't enter unless force set to True\n"
     ]
    },
    {
     "data": {
      "text/plain": [
       "-1"
      ]
     },
     "execution_count": 3,
     "metadata": {},
     "output_type": "execute_result"
    }
   ],
   "source": [
    "course = pkl.load(open(osp.join(\"data\", \n",
    "                                \"courses\", \n",
    "                                \"Northwest_Inner_9.pkl\"), \"rb\"))\n",
    "alt_course = pkl.load(open(osp.join(\"data\", \n",
    "                                \"courses\", \n",
    "                                \"Needwood_Executive_9.pkl\"), \"rb\"))\n",
    "first_game_time = datetime.datetime(2022, 12, 30, 10, 0)\n",
    "second_game_time = datetime.datetime(2023, 1, 7, 10, 30)\n",
    "third_game_time = datetime.datetime(2023, 1, 14, 11, 30)\n",
    "fourth_game_time = datetime.datetime(2023, 1, 15, 13, 30)\n",
    "fifth_game_time = datetime.datetime(2023, 1, 16, 10, 30)\n",
    "\n",
    "first_game_scores = [7, 8, 8, 6, 5, 8, 7, 5, 8]\n",
    "secon_game_scores = [8, 6, 7, 8, 5, 8, 6, 3, 8]\n",
    "third_game_scores = [6, 7, 8, 6, 4, 7, 6, 4, 6]\n",
    "fourth_game_scores = [4, 5, 6, 6, 6, 5, 7, 8, 6]\n",
    "fifth_game_scores = [6, 6, 6, 7, 3, 6, 8, 6, 6]\n",
    "\n",
    "first_game_data = course.play('jt', first_game_scores, \n",
    "                              first_game_time, ttt=33)\n",
    "second_game_data = course.play('jt', secon_game_scores,\n",
    "                               second_game_time, ttt=34)\n",
    "third_game_data = course.play('jt', third_game_scores,\n",
    "                              third_game_time, ttt=22)\n",
    "fourth_game_data = alt_course.play('jt', fourth_game_scores,\n",
    "                               fourth_game_time, ttt=42)\n",
    "fifth_game_data = course.play('jt', fifth_game_scores,\n",
    "                              fifth_game_time, ttt=48)\n",
    "save_game(first_game_data)"
   ]
  },
  {
   "cell_type": "code",
   "execution_count": 4,
   "id": "bd2b2cd9-4326-4fee-9d97-9b17d57d959e",
   "metadata": {},
   "outputs": [
    {
     "name": "stdout",
     "output_type": "stream",
     "text": [
      "Duplicate game detected. Won't enter unless force set to True\n"
     ]
    },
    {
     "data": {
      "text/plain": [
       "-1"
      ]
     },
     "execution_count": 4,
     "metadata": {},
     "output_type": "execute_result"
    }
   ],
   "source": [
    "save_game(second_game_data)"
   ]
  },
  {
   "cell_type": "code",
   "execution_count": 5,
   "id": "13420ac4-6941-4927-b131-fe3dc7cc16d5",
   "metadata": {},
   "outputs": [
    {
     "name": "stdout",
     "output_type": "stream",
     "text": [
      "Duplicate game detected. Won't enter unless force set to True\n"
     ]
    },
    {
     "data": {
      "text/plain": [
       "-1"
      ]
     },
     "execution_count": 5,
     "metadata": {},
     "output_type": "execute_result"
    }
   ],
   "source": [
    "save_game(third_game_data)"
   ]
  },
  {
   "cell_type": "code",
   "execution_count": 6,
   "id": "79475924-eacc-44e8-98c3-3c05b5238496",
   "metadata": {},
   "outputs": [
    {
     "name": "stdout",
     "output_type": "stream",
     "text": [
      "Duplicate game detected. Won't enter unless force set to True\n"
     ]
    },
    {
     "data": {
      "text/plain": [
       "-1"
      ]
     },
     "execution_count": 6,
     "metadata": {},
     "output_type": "execute_result"
    }
   ],
   "source": [
    "save_game(fourth_game_data)"
   ]
  },
  {
   "cell_type": "code",
   "execution_count": 7,
   "id": "3ff9393d-2565-410c-b42b-f75351cfdaaf",
   "metadata": {},
   "outputs": [
    {
     "name": "stdout",
     "output_type": "stream",
     "text": [
      "Duplicate game detected. Won't enter unless force set to True\n"
     ]
    },
    {
     "data": {
      "text/plain": [
       "-1"
      ]
     },
     "execution_count": 7,
     "metadata": {},
     "output_type": "execute_result"
    }
   ],
   "source": [
    "save_game(fifth_game_data)"
   ]
  },
  {
   "cell_type": "code",
   "execution_count": 8,
   "id": "a035fde6-fed8-44d2-8936-4f345f0b689e",
   "metadata": {},
   "outputs": [
    {
     "name": "stdout",
     "output_type": "stream",
     "text": [
      "Player: jt (Handicap 60.0)\n",
      "Course: Northwest_Inner_9\n",
      "Date: Friday_12_30_2022_10:00\n",
      "-------------------------------------------------------------------\n",
      "|HOLE |   1 |   2 |   3 |   4 |   5 |   6 |   7 |   8 |   9 | TOT |\n",
      "-------------------------------------------------------------------\n",
      "|YDS  | 362 | 385 | 301 | 312 |  97 | 389 | 306 | 175 | 310 |2637 |\n",
      "-------------------------------------------------------------------\n",
      "|SI   |   2 |   3 |   4 |   6 |   9 |   1 |   8 |   7 |   5 |     |\n",
      "-------------------------------------------------------------------\n",
      "|PAR  |   4 |   4 |   4 |   4 |   3 |   4 |   4 |   3 |   4 |  34 |\n",
      "-------------------------------------------------------------------\n",
      "|SHOT |   7 |   8 |   8 |   6 |   5 |   8 |   7 |   5 |   8 |  62 |\n",
      "-------------------------------------------------------------------\n",
      "|SCRE |   3 |   4 |   4 |   2 |   2 |   4 |   3 |   2 |   4 | +28 |\n",
      "-------------------------------------------------------------------\n",
      "\n",
      "Double Bogey :  3\n",
      "Triple Bogey :  2\n",
      "          +4 :  4\n",
      "\n",
      "Total Score: 62 (+28)\n",
      "    \n",
      "\n",
      "---\n",
      "\n",
      "Player: jt (Handicap 56.0)\n",
      "Course: Northwest_Inner_9\n",
      "Date: Saturday_01_07_2023_10:30\n",
      "-------------------------------------------------------------------\n",
      "|HOLE |   1 |   2 |   3 |   4 |   5 |   6 |   7 |   8 |   9 | TOT |\n",
      "-------------------------------------------------------------------\n",
      "|YDS  | 362 | 385 | 301 | 312 |  97 | 389 | 306 | 175 | 310 |2637 |\n",
      "-------------------------------------------------------------------\n",
      "|SI   |   2 |   3 |   4 |   6 |   9 |   1 |   8 |   7 |   5 |     |\n",
      "-------------------------------------------------------------------\n",
      "|PAR  |   4 |   4 |   4 |   4 |   3 |   4 |   4 |   3 |   4 |  34 |\n",
      "-------------------------------------------------------------------\n",
      "|SHOT |   8 |   6 |   7 |   8 |   5 |   8 |   6 |   3 |   8 |  59 |\n",
      "-------------------------------------------------------------------\n",
      "|SCRE |   4 |   2 |   3 |   4 |   2 |   4 |   2 |   0 |   4 | +25 |\n",
      "-------------------------------------------------------------------\n",
      "\n",
      "         Par :  1\n",
      "Double Bogey :  3\n",
      "Triple Bogey :  1\n",
      "          +4 :  4\n",
      "\n",
      "Total Score: 59 (+25)\n",
      "    \n",
      "\n",
      "---\n",
      "\n",
      "Player: jt (Handicap 53.0)\n",
      "Course: Northwest_Inner_9\n",
      "Date: Saturday_01_14_2023_11:30\n",
      "-------------------------------------------------------------------\n",
      "|HOLE |   1 |   2 |   3 |   4 |   5 |   6 |   7 |   8 |   9 | TOT |\n",
      "-------------------------------------------------------------------\n",
      "|YDS  | 362 | 385 | 301 | 312 |  97 | 389 | 306 | 175 | 310 |2637 |\n",
      "-------------------------------------------------------------------\n",
      "|SI   |   2 |   3 |   4 |   6 |   9 |   1 |   8 |   7 |   5 |     |\n",
      "-------------------------------------------------------------------\n",
      "|PAR  |   4 |   4 |   4 |   4 |   3 |   4 |   4 |   3 |   4 |  34 |\n",
      "-------------------------------------------------------------------\n",
      "|SHOT |   6 |   7 |   8 |   6 |   4 |   7 |   6 |   4 |   6 |  54 |\n",
      "-------------------------------------------------------------------\n",
      "|SCRE |   2 |   3 |   4 |   2 |   1 |   3 |   2 |   1 |   2 | +20 |\n",
      "-------------------------------------------------------------------\n",
      "\n",
      "       Bogey :  2\n",
      "Double Bogey :  4\n",
      "Triple Bogey :  2\n",
      "          +4 :  1\n",
      "\n",
      "Total Score: 54 (+20)\n",
      "    \n",
      "\n",
      "---\n",
      "\n",
      "Player: jt (Handicap 48.7)\n",
      "Course: Needwood_Executive_9\n",
      "Date: Sunday_01_15_2023_13:30\n",
      "-------------------------------------------------------------------\n",
      "|HOLE |   1 |   2 |   3 |   4 |   5 |   6 |   7 |   8 |   9 | TOT |\n",
      "-------------------------------------------------------------------\n",
      "|YDS  | 170 | 105 | 275 | 103 |  87 | 140 | 160 | 359 | 133 |1532 |\n",
      "-------------------------------------------------------------------\n",
      "|SI   |   5 |   9 |   2 |   8 |   3 |   7 |   6 |   1 |   4 |     |\n",
      "-------------------------------------------------------------------\n",
      "|PAR  |   3 |   3 |   4 |   3 |   3 |   3 |   3 |   4 |   3 |  29 |\n",
      "-------------------------------------------------------------------\n",
      "|SHOT |   4 |   5 |   6 |   6 |   6 |   5 |   7 |   8 |   6 |  53 |\n",
      "-------------------------------------------------------------------\n",
      "|SCRE |   1 |   2 |   2 |   3 |   3 |   2 |   4 |   4 |   3 | +24 |\n",
      "-------------------------------------------------------------------\n",
      "\n",
      "       Bogey :  1\n",
      "Double Bogey :  3\n",
      "Triple Bogey :  3\n",
      "          +4 :  2\n",
      "\n",
      "Total Score: 53 (+24)\n",
      "    \n",
      "\n",
      "---\n",
      "\n",
      "Player: jt (Handicap 48.5)\n",
      "Course: Northwest_Inner_9\n",
      "Date: Monday_01_16_2023_10:30\n",
      "-------------------------------------------------------------------\n",
      "|HOLE |   1 |   2 |   3 |   4 |   5 |   6 |   7 |   8 |   9 | TOT |\n",
      "-------------------------------------------------------------------\n",
      "|YDS  | 362 | 385 | 301 | 312 |  97 | 389 | 306 | 175 | 310 |2637 |\n",
      "-------------------------------------------------------------------\n",
      "|SI   |   2 |   3 |   4 |   6 |   9 |   1 |   8 |   7 |   5 |     |\n",
      "-------------------------------------------------------------------\n",
      "|PAR  |   4 |   4 |   4 |   4 |   3 |   4 |   4 |   3 |   4 |  34 |\n",
      "-------------------------------------------------------------------\n",
      "|SHOT |   6 |   6 |   6 |   7 |   3 |   6 |   8 |   6 |   6 |  54 |\n",
      "-------------------------------------------------------------------\n",
      "|SCRE |   2 |   2 |   2 |   3 |   0 |   2 |   4 |   3 |   2 | +20 |\n",
      "-------------------------------------------------------------------\n",
      "\n",
      "         Par :  1\n",
      "Double Bogey :  5\n",
      "Triple Bogey :  2\n",
      "          +4 :  1\n",
      "\n",
      "Total Score: 54 (+20)\n",
      "    \n",
      "\n",
      "---\n",
      "\n"
     ]
    }
   ],
   "source": [
    "for game in [\n",
    "    first_game_data,\n",
    "    second_game_data, \n",
    "    third_game_data, \n",
    "    fourth_game_data,\n",
    "    fifth_game_data]:\n",
    "    print(analyze(game))\n",
    "    print(\"\\n---\\n\")"
   ]
  },
  {
   "cell_type": "code",
   "execution_count": 9,
   "id": "c396cc2d-307e-47da-881e-81370f44f837",
   "metadata": {},
   "outputs": [
    {
     "name": "stdout",
     "output_type": "stream",
     "text": [
      "Player: jt (Handicap 48.5)\n",
      "Course: Northwest_Inner_9\n",
      "Date: Monday_01_16_2023_10:30\n",
      "-------------------------------------------------------------------\n",
      "|HOLE |   1 |   2 |   3 |   4 |   5 |   6 |   7 |   8 |   9 | TOT |\n",
      "-------------------------------------------------------------------\n",
      "|YDS  | 362 | 385 | 301 | 312 |  97 | 389 | 306 | 175 | 310 |2637 |\n",
      "-------------------------------------------------------------------\n",
      "|SI   |   2 |   3 |   4 |   6 |   9 |   1 |   8 |   7 |   5 |     |\n",
      "-------------------------------------------------------------------\n",
      "|PAR  |   4 |   4 |   4 |   4 |   3 |   4 |   4 |   3 |   4 |  34 |\n",
      "-------------------------------------------------------------------\n",
      "|SHOT |   6 |   6 |   6 |   7 |   3 |   6 |   8 |   6 |   6 |  54 |\n",
      "-------------------------------------------------------------------\n",
      "|SCRE |   2 |   2 |   2 |   3 |   0 |   2 |   4 |   3 |   2 | +20 |\n",
      "-------------------------------------------------------------------\n",
      "\n",
      "         Par :  1\n",
      "Double Bogey :  5\n",
      "Triple Bogey :  2\n",
      "          +4 :  1\n",
      "\n",
      "Total Score: 54 (+20)\n",
      "    \n"
     ]
    }
   ],
   "source": [
    "print(analyze(fifth_game_data))"
   ]
  },
  {
   "cell_type": "code",
   "execution_count": null,
   "id": "ac50dcaf-e4f2-494d-953d-0faf5798b8b8",
   "metadata": {},
   "outputs": [],
   "source": []
  }
 ],
 "metadata": {
  "kernelspec": {
   "display_name": "Python 3 (ipykernel)",
   "language": "python",
   "name": "python3"
  },
  "language_info": {
   "codemirror_mode": {
    "name": "ipython",
    "version": 3
   },
   "file_extension": ".py",
   "mimetype": "text/x-python",
   "name": "python",
   "nbconvert_exporter": "python",
   "pygments_lexer": "ipython3",
   "version": "3.9.13"
  }
 },
 "nbformat": 4,
 "nbformat_minor": 5
}
