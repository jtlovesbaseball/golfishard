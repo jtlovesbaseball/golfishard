{
 "cells": [
  {
   "cell_type": "code",
   "execution_count": 1,
   "id": "a5b0dcfa-7aba-4690-aa38-a02cd2745a0e",
   "metadata": {},
   "outputs": [],
   "source": [
    "import sys\n",
    "sys.path.append('src/')"
   ]
  },
  {
   "cell_type": "code",
   "execution_count": 2,
   "id": "027c09f3-82a6-43a7-ab5b-1fe5bb664428",
   "metadata": {},
   "outputs": [],
   "source": [
    "from Hole import Hole\n",
    "from Course import Course"
   ]
  },
  {
   "cell_type": "code",
   "execution_count": 3,
   "id": "7b534806-2199-468d-b8f5-486b6c35a81d",
   "metadata": {},
   "outputs": [],
   "source": [
    "holes = [\n",
    "    Hole(number=1, yards=362, par=4, stroke_index=2),\n",
    "    Hole(number=2, yards=385, par=4, stroke_index=3),\n",
    "    Hole(number=3, yards=301, par=4, stroke_index=4),\n",
    "    Hole(number=4, yards=312, par=4, stroke_index=6),\n",
    "    Hole(number=5, yards=97,  par=3, stroke_index=9),\n",
    "    Hole(number=6, yards=389, par=4, stroke_index=1),\n",
    "    Hole(number=7, yards=306, par=4, stroke_index=8),\n",
    "    Hole(number=8, yards=175, par=3, stroke_index=7, comments=\"JT's first par\"),\n",
    "    Hole(number=9, yards=310, par=4, stroke_index=5),\n",
    "]"
   ]
  },
  {
   "cell_type": "code",
   "execution_count": 4,
   "id": "189ae29e-a6d1-446b-9508-b6c819b662f2",
   "metadata": {},
   "outputs": [],
   "source": [
    "import pickle as pkl\n",
    "\n",
    "course = Course(\"Northwest Inner 9\", holes)\n",
    "filehandler = open(course.save_path(), 'wb')\n",
    "pkl.dump(course, filehandler)\n",
    "filehandler.close()"
   ]
  },
  {
   "cell_type": "code",
   "execution_count": 5,
   "id": "8af35e2d-c23b-46b1-b340-b76379601f38",
   "metadata": {},
   "outputs": [
    {
     "name": "stdout",
     "output_type": "stream",
     "text": [
      "Course name: Northwest Inner 9\n",
      "Length: 9 holes\n",
      "Par: 34 strokes\n",
      "Distance: 2637 Yards\n"
     ]
    }
   ],
   "source": [
    "foo = pkl.load( open(course.save_path(), 'rb') )\n",
    "print(foo)"
   ]
  },
  {
   "cell_type": "code",
   "execution_count": null,
   "id": "57ba768e-e0a6-494d-b896-ddb01fc1cd39",
   "metadata": {},
   "outputs": [],
   "source": []
  }
 ],
 "metadata": {
  "kernelspec": {
   "display_name": "Python 3 (ipykernel)",
   "language": "python",
   "name": "python3"
  },
  "language_info": {
   "codemirror_mode": {
    "name": "ipython",
    "version": 3
   },
   "file_extension": ".py",
   "mimetype": "text/x-python",
   "name": "python",
   "nbconvert_exporter": "python",
   "pygments_lexer": "ipython3",
   "version": "3.9.13"
  }
 },
 "nbformat": 4,
 "nbformat_minor": 5
}
