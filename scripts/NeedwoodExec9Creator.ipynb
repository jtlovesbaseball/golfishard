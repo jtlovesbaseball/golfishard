{
 "cells": [
  {
   "cell_type": "code",
   "execution_count": 8,
   "id": "588496d4-cd97-4f2e-ac1b-0a17963573d9",
   "metadata": {},
   "outputs": [],
   "source": [
    "import sys\n",
    "sys.path.append('src/')\n",
    "import pickle as pkl"
   ]
  },
  {
   "cell_type": "code",
   "execution_count": 9,
   "id": "ad1d6df3-666b-40e8-8569-be2a8e32bafd",
   "metadata": {},
   "outputs": [],
   "source": [
    "from Course import Course\n",
    "from Hole import Hole"
   ]
  },
  {
   "cell_type": "code",
   "execution_count": 10,
   "id": "61a97784-f7bf-4421-92de-7ce81387393c",
   "metadata": {},
   "outputs": [],
   "source": [
    "holes = [\n",
    "    Hole(number=1, yards=170, par=3, stroke_index=5),\n",
    "    Hole(number=2, yards=105, par=3, stroke_index=9),\n",
    "    Hole(number=3, yards=275, par=4, stroke_index=2),\n",
    "    Hole(number=4, yards=103, par=3, stroke_index=8),\n",
    "    Hole(number=5, yards=87,  par=3, stroke_index=3),\n",
    "    Hole(number=6, yards=140, par=3, stroke_index=7),\n",
    "    Hole(number=7, yards=160, par=3, stroke_index=6),\n",
    "    Hole(number=8, yards=359, par=4, stroke_index=1),\n",
    "    Hole(number=9, yards=133, par=3, stroke_index=4),\n",
    "]"
   ]
  },
  {
   "cell_type": "code",
   "execution_count": 11,
   "id": "101dd734-0bdf-4184-9267-3ef19c4c1e89",
   "metadata": {},
   "outputs": [],
   "source": [
    "course = Course(\"Needwood Executive 9\", holes)\n",
    "filehandler = open(course.save_path(), 'wb')\n",
    "pkl.dump(course, filehandler)\n",
    "filehandler.close()"
   ]
  },
  {
   "cell_type": "code",
   "execution_count": 12,
   "id": "26e593de-4ac2-4456-9ce6-b08f41d5f3e8",
   "metadata": {},
   "outputs": [
    {
     "name": "stdout",
     "output_type": "stream",
     "text": [
      "Course name: Needwood Executive 9\n",
      "Length: 9 holes\n",
      "Par: 29 strokes\n",
      "Distance: 1532 Yards\n"
     ]
    }
   ],
   "source": [
    "foo = pkl.load( open(course.save_path(), 'rb') )\n",
    "print(foo)"
   ]
  },
  {
   "cell_type": "code",
   "execution_count": null,
   "id": "2fc574a8-a54f-4c72-b04d-44d67c213bf8",
   "metadata": {},
   "outputs": [],
   "source": []
  }
 ],
 "metadata": {
  "kernelspec": {
   "display_name": "Python 3 (ipykernel)",
   "language": "python",
   "name": "python3"
  },
  "language_info": {
   "codemirror_mode": {
    "name": "ipython",
    "version": 3
   },
   "file_extension": ".py",
   "mimetype": "text/x-python",
   "name": "python",
   "nbconvert_exporter": "python",
   "pygments_lexer": "ipython3",
   "version": "3.9.13"
  }
 },
 "nbformat": 4,
 "nbformat_minor": 5
}
