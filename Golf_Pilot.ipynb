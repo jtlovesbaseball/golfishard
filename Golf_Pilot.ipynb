{
 "cells": [
  {
   "cell_type": "markdown",
   "id": "4ee32dfd-6655-460c-a3ad-29785bee1a0e",
   "metadata": {},
   "source": [
    "# Golf is Hard\n",
    "\n",
    "## January 2023\n",
    "\n",
    "JT"
   ]
  },
  {
   "cell_type": "markdown",
   "id": "3fb1b7a7-768c-40a8-9002-dd6fd8575ef3",
   "metadata": {},
   "source": [
    "Greetings! Like many of you, i've got a fever and the only prescription is making tee time and riding the emotional roller coaster that is a day at the links.\n",
    "\n",
    "I love data, math, and sports. Golf has a lot of data that can be measured, and that which can be measured can be improved more easily. It's my goal to understand more and more of my gameplay, consistencies, improvements, weaknesses, etc so I can ~go pro and buy a beachouse in hawaii~ continue to imorove and lower my score.\n",
    "\n",
    "The thing I say the most common when golfing not of a four letter variety is \"Golf is Hard\". That's what I've called the accompanying repository that I'm using to track my progress. "
   ]
  },
  {
   "cell_type": "code",
   "execution_count": 1,
   "id": "2f40a546-e773-4b61-986b-c7199c010d24",
   "metadata": {},
   "outputs": [],
   "source": [
    "# Imports of Classes needed to save courses\n",
    "import sys\n",
    "sys.path.append('src/')\n",
    "import datetime\n",
    "from util import analyze\n",
    "import pickle as pkl\n",
    "from Course import Course\n",
    "from Hole import Hole"
   ]
  },
  {
   "cell_type": "markdown",
   "id": "9a5b1b71-983f-41e5-aaf3-dfbccf854f9b",
   "metadata": {},
   "source": [
    "The first time I tried to play 18 holes of golf by myself I left the house with 7 balls, and told my wife I would be back \"In probably about 2 hours\", because I had no idea how long a round of golf would take. After the 9th hole I was down to my last ball and our foursome had been out two and a half hours already, so I decided to make it a 9 hole kinda day. I've still been too intimidated to play a full round of golf, but I've played plenty of 9 hole games since then. Let's create my favorite course (which all but one of my games are on this month), the Northwest Inner 9."
   ]
  },
  {
   "cell_type": "code",
   "execution_count": 2,
   "id": "819efd70-bbc7-407a-8a50-5fb9fe3696be",
   "metadata": {},
   "outputs": [
    {
     "name": "stdout",
     "output_type": "stream",
     "text": [
      "Loading from Saved\n",
      "Already saved, use force=True to overwrite\n"
     ]
    }
   ],
   "source": [
    "# Stroke index (or handicap on score sheets sometimes) is the ranking\n",
    "# of difficulty of the hole. 1 is the hardest, 9 is the easiest. When\n",
    "# adding handicap strokes, extra strokes are given on hard holes before\n",
    "# easy ones.\n",
    "\n",
    "holes = [\n",
    "    Hole(number=1, yards=362, par=4, stroke_index=2),\n",
    "    Hole(number=2, yards=385, par=4, stroke_index=3),\n",
    "    Hole(number=3, yards=301, par=4, stroke_index=4),\n",
    "    Hole(number=4, yards=312, par=4, stroke_index=6),\n",
    "    Hole(number=5, yards=97,  par=3, stroke_index=9),\n",
    "    Hole(number=6, yards=389, par=4, stroke_index=1),\n",
    "    Hole(number=7, yards=306, par=4, stroke_index=8),\n",
    "    Hole(number=8, yards=175, par=3, stroke_index=7, comments=\"JT's first par\"),\n",
    "    Hole(number=9, yards=310, par=4, stroke_index=5),\n",
    "]\n",
    "course = Course(\"Northwest Inner 9\", holes)\n",
    "course.save()"
   ]
  },
  {
   "cell_type": "markdown",
   "id": "389a8bf3-822a-4c4f-8a59-b2649c1e0236",
   "metadata": {},
   "source": [
    "I've been heading to the driving range and top golf probably 2-3 times a week, and have taken 2 lessons about my swing. I'm an awful putter, and rarely drive from the tee box, I either use a hybrid or 5 wood so I'm not always starting from the woods.\n",
    "\n",
    "Now let's play some golf. \n",
    "\n",
    "First game I was put with a father/son pair; the son had pretty good distance with his drives (the father too), but he hit with a very strong draw. I don't call it a slice only because he seemed to be able to aim it fairly well, it was impressive to watch. Playing with my hybrid, drove the last hole. Finished an embarassing 28 over par on 9 holes. Golf is hard!!"
   ]
  },
  {
   "cell_type": "code",
   "execution_count": 3,
   "id": "dcf58de3-c53b-40c5-ba1e-47aa063ea37d",
   "metadata": {},
   "outputs": [
    {
     "name": "stdout",
     "output_type": "stream",
     "text": [
      "[24]\n",
      "Player: jt (Handicap 48.0 (18 Hole))\n",
      "Course: Northwest_Inner_9\n",
      "Date: Friday_12_30_2022_10:00\n",
      "-------------------------------------------------------------------\n",
      "|HOLE |   1 |   2 |   3 |   4 |   5 |   6 |   7 |   8 |   9 | TOT |\n",
      "-------------------------------------------------------------------\n",
      "|YDS  | 362 | 385 | 301 | 312 |  97 | 389 | 306 | 175 | 310 |2637 |\n",
      "-------------------------------------------------------------------\n",
      "|SI   |   2 |   3 |   4 |   6 |   9 |   1 |   8 |   7 |   5 |     |\n",
      "-------------------------------------------------------------------\n",
      "|PAR  |   4 |   4 |   4 |   4 |   3 |   4 |   4 |   3 |   4 |  34 |\n",
      "-------------------------------------------------------------------\n",
      "|TRGT |   7 |   7 |   7 |   7 |   6 |   7 |   7 |   6 |   7 |  61 |\n",
      "-------------------------------------------------------------------\n",
      "|SHOT |   7 |   8 |   8 |   6 |   5 |   8 |   7 |   5 |   8 |  62 |\n",
      "-------------------------------------------------------------------\n",
      "|SCRE |   3 |   4 |   4 |   2 |   2 |   4 |   3 |   2 |   4 | +28 |\n",
      "-------------------------------------------------------------------\n",
      "|HCAP |   0 |   1 |   1 |  -1 |  -1 |   1 |   0 |  -1 |   1 | + 1 |\n",
      "-------------------------------------------------------------------\n",
      "\n",
      "Raw (+28):\n",
      "Double Bogey :  3\n",
      "Triple Bogey :  2\n",
      "          +4 :  4\n",
      "\n",
      "With Handicap (+1):\n",
      "Birdie       :  3\n",
      "Par          :  2\n",
      "Bogey        :  4\n",
      "\n",
      "Total Score: 62\n",
      "    \n"
     ]
    }
   ],
   "source": [
    "first_game_time = datetime.datetime(2022, 12, 30, 10, 0)\n",
    "first_game_scores = [7, 8, 8, 6, 5, 8, 7, 5, 8]\n",
    "\n",
    "# Tee time temperature = 33 degrees F. The ground was frozen,\n",
    "# had to use no penetration tees\n",
    "first_game_data = course.play('jt', first_game_scores, \n",
    "                              first_game_time, ttt=33)\n",
    "print(analyze(first_game_data))"
   ]
  },
  {
   "cell_type": "markdown",
   "id": "a0af5668-a68f-47e1-b940-5330bd3c499c",
   "metadata": {},
   "source": [
    "This is probably the busiest scorecard you've ever seen in golf, but I've added in my handicap information so that I get a better gauge of how \"good\" or \"bad\" I did (I always do \"bad\", because golf is hard but shooting one over my handicap is a lot easier to accept than shooting 28 over par on a quick 9). I tuned the starting handicap so that my first game was a +1, and its a rolling average after that. \n",
    "\n",
    "Let's play some more golf! Second game I got my first par. Played with a self described \"beginner golf fan\" that was out there having fun as we tried to jam tees into the frozen ground. I got my first par! On a somewhat hard par 3 as well, 175 yards. First shot was a hybrid shot that handed right in the driving range, pitching wedge put me around 10 feet from the hole where I had the putt of my life."
   ]
  },
  {
   "cell_type": "code",
   "execution_count": 4,
   "id": "969d5f28-1812-44d0-8fb6-69c1b2074a04",
   "metadata": {},
   "outputs": [
    {
     "name": "stdout",
     "output_type": "stream",
     "text": [
      "[28, 24]\n",
      "Player: jt (Handicap 52.0 (18 Hole))\n",
      "Course: Northwest_Inner_9\n",
      "Date: Saturday_01_07_2023_10:30\n",
      "-------------------------------------------------------------------\n",
      "|HOLE |   1 |   2 |   3 |   4 |   5 |   6 |   7 |   8 |   9 | TOT |\n",
      "-------------------------------------------------------------------\n",
      "|YDS  | 362 | 385 | 301 | 312 |  97 | 389 | 306 | 175 | 310 |2637 |\n",
      "-------------------------------------------------------------------\n",
      "|SI   |   2 |   3 |   4 |   6 |   9 |   1 |   8 |   7 |   5 |     |\n",
      "-------------------------------------------------------------------\n",
      "|PAR  |   4 |   4 |   4 |   4 |   3 |   4 |   4 |   3 |   4 |  34 |\n",
      "-------------------------------------------------------------------\n",
      "|TRGT |   7 |   7 |   7 |   7 |   6 |   7 |   7 |   6 |   7 |  61 |\n",
      "-------------------------------------------------------------------\n",
      "|SHOT |   8 |   6 |   7 |   8 |   5 |   8 |   6 |   3 |   8 |  59 |\n",
      "-------------------------------------------------------------------\n",
      "|SCRE |   4 |   2 |   3 |   4 |   2 |   4 |   2 |   0 |   4 | +25 |\n",
      "-------------------------------------------------------------------\n",
      "|HCAP |   1 |  -1 |   0 |   1 |  -1 |   1 |  -1 |  -3 |   1 | -2 |\n",
      "-------------------------------------------------------------------\n",
      "\n",
      "Raw (+25):\n",
      "         Par :  1\n",
      "Double Bogey :  3\n",
      "Triple Bogey :  1\n",
      "          +4 :  4\n",
      "\n",
      "With Handicap (-2):\n",
      "Albatross    :  1\n",
      "Birdie       :  3\n",
      "Par          :  1\n",
      "Bogey        :  4\n",
      "\n",
      "Total Score: 59\n",
      "    \n"
     ]
    }
   ],
   "source": [
    "second_game_time = datetime.datetime(2023, 1, 7, 10, 30)\n",
    "secon_game_scores = [8, 6, 7, 8, 5, 8, 6, 3, 8]\n",
    "second_game_data = course.play('jt', secon_game_scores,\n",
    "                               second_game_time, ttt=34)\n",
    "print(analyze(second_game_data))"
   ]
  },
  {
   "cell_type": "markdown",
   "id": "a9f2649e-52b6-42d4-815e-fece645d7767",
   "metadata": {},
   "source": [
    "That's one thing I'm noticing with the handicaps...I'm a bimodal inconsistent golfer. Sinking an albatross (3 under par, extrordinarily rare in regulation golf) and 4 bogeys on the same quick 9 is comical. Two under!\n",
    "\n",
    "Let's play more golf. Third game was on the saturday of MLK weekend. Coldest day I've golfed, was by myself."
   ]
  },
  {
   "cell_type": "code",
   "execution_count": 5,
   "id": "e2e11c63-ac05-4277-8c23-fdc5d00b769f",
   "metadata": {},
   "outputs": [
    {
     "name": "stdout",
     "output_type": "stream",
     "text": [
      "[28, 25, 24]\n",
      "Player: jt (Handicap 51.3 (18 Hole))\n",
      "Course: Northwest_Inner_9\n",
      "Date: Saturday_01_14_2023_11:30\n",
      "-------------------------------------------------------------------\n",
      "|HOLE |   1 |   2 |   3 |   4 |   5 |   6 |   7 |   8 |   9 | TOT |\n",
      "-------------------------------------------------------------------\n",
      "|YDS  | 362 | 385 | 301 | 312 |  97 | 389 | 306 | 175 | 310 |2637 |\n",
      "-------------------------------------------------------------------\n",
      "|SI   |   2 |   3 |   4 |   6 |   9 |   1 |   8 |   7 |   5 |     |\n",
      "-------------------------------------------------------------------\n",
      "|PAR  |   4 |   4 |   4 |   4 |   3 |   4 |   4 |   3 |   4 |  34 |\n",
      "-------------------------------------------------------------------\n",
      "|TRGT |   7 |   7 |   7 |   7 |   6 |   7 |   7 |   6 |   7 |  61 |\n",
      "-------------------------------------------------------------------\n",
      "|SHOT |   6 |   7 |   8 |   6 |   4 |   7 |   6 |   4 |   6 |  54 |\n",
      "-------------------------------------------------------------------\n",
      "|SCRE |   2 |   3 |   4 |   2 |   1 |   3 |   2 |   1 |   2 | +20 |\n",
      "-------------------------------------------------------------------\n",
      "|HCAP |  -1 |   0 |   1 |  -1 |  -2 |   0 |  -1 |  -2 |  -1 | -7 |\n",
      "-------------------------------------------------------------------\n",
      "\n",
      "Raw (+20):\n",
      "       Bogey :  2\n",
      "Double Bogey :  4\n",
      "Triple Bogey :  2\n",
      "          +4 :  1\n",
      "\n",
      "With Handicap (-7):\n",
      "Eagle        :  2\n",
      "Birdie       :  4\n",
      "Par          :  2\n",
      "Bogey        :  1\n",
      "\n",
      "Total Score: 54\n",
      "    \n"
     ]
    }
   ],
   "source": [
    "third_game_time = datetime.datetime(2023, 1, 14, 11, 30)\n",
    "third_game_scores = [6, 7, 8, 6, 4, 7, 6, 4, 6]\n",
    "third_game_data = course.play('jt', third_game_scores,\n",
    "                              third_game_time, ttt=22)\n",
    "print(analyze(third_game_data))"
   ]
  },
  {
   "cell_type": "markdown",
   "id": "d196cacd-dfd3-4bae-a023-5a34da784f2b",
   "metadata": {},
   "source": [
    "Hey that was fun...*lets play MORE golf!*\n",
    "\n",
    "I decided to venture outside my comfort zone and try a new course! The day after shooting +20 I decided to check out the needwood executive course. At 9 holes and a distance of 1532 yards, this is a par 3 palooza! First let's create a new 9 hole course:"
   ]
  },
  {
   "cell_type": "code",
   "execution_count": 8,
   "id": "6266a9be-0bcb-44d5-8a3e-decaacce6d92",
   "metadata": {},
   "outputs": [
    {
     "name": "stdout",
     "output_type": "stream",
     "text": [
      "Loading from Saved\n",
      "[28, 25, 20, 24]\n",
      "Player: jt (Handicap 48.5 (18 Hole))\n",
      "Course: Needwood_Executive_9\n",
      "Date: Sunday_01_15_2023_13:30\n",
      "-------------------------------------------------------------------\n",
      "|HOLE |   1 |   2 |   3 |   4 |   5 |   6 |   7 |   8 |   9 | TOT |\n",
      "-------------------------------------------------------------------\n",
      "|YDS  | 170 | 105 | 275 | 103 |  87 | 140 | 160 | 359 | 133 |1532 |\n",
      "-------------------------------------------------------------------\n",
      "|SI   |   5 |   9 |   2 |   8 |   3 |   7 |   6 |   1 |   4 |     |\n",
      "-------------------------------------------------------------------\n",
      "|PAR  |   3 |   3 |   4 |   3 |   3 |   3 |   3 |   4 |   3 |  29 |\n",
      "-------------------------------------------------------------------\n",
      "|TRGT |   6 |   6 |   7 |   6 |   6 |   6 |   6 |   7 |   6 |  56 |\n",
      "-------------------------------------------------------------------\n",
      "|SHOT |   4 |   5 |   6 |   6 |   6 |   5 |   7 |   8 |   6 |  53 |\n",
      "-------------------------------------------------------------------\n",
      "|SCRE |   1 |   2 |   2 |   3 |   3 |   2 |   4 |   4 |   3 | +24 |\n",
      "-------------------------------------------------------------------\n",
      "|HCAP |  -2 |  -1 |  -1 |   0 |   0 |  -1 |   1 |   1 |   0 | -3 |\n",
      "-------------------------------------------------------------------\n",
      "\n",
      "Raw (+24):\n",
      "       Bogey :  1\n",
      "Double Bogey :  3\n",
      "Triple Bogey :  3\n",
      "          +4 :  2\n",
      "\n",
      "With Handicap (-3):\n",
      "Eagle        :  1\n",
      "Birdie       :  3\n",
      "Par          :  3\n",
      "Bogey        :  2\n",
      "\n",
      "Total Score: 53\n",
      "    \n"
     ]
    }
   ],
   "source": [
    "holes = [\n",
    "    Hole(number=1, yards=170, par=3, stroke_index=5),\n",
    "    Hole(number=2, yards=105, par=3, stroke_index=9),\n",
    "    Hole(number=3, yards=275, par=4, stroke_index=2),\n",
    "    Hole(number=4, yards=103, par=3, stroke_index=8),\n",
    "    Hole(number=5, yards=87,  par=3, stroke_index=3),\n",
    "    Hole(number=6, yards=140, par=3, stroke_index=7),\n",
    "    Hole(number=7, yards=160, par=3, stroke_index=6),\n",
    "    Hole(number=8, yards=359, par=4, stroke_index=1),\n",
    "    Hole(number=9, yards=133, par=3, stroke_index=4),\n",
    "]\n",
    "needwood_course = Course(\"Needwood Executive 9\", holes)\n",
    "\n",
    "# Lets play golf!\n",
    "fourth_game_time = datetime.datetime(2023, 1, 15, 13, 30)\n",
    "fourth_game_scores = [4, 5, 6, 6, 6, 5, 7, 8, 6]\n",
    "\n",
    "fourth_game_data = needwood_course.play('jt', fourth_game_scores, \n",
    "                                        fourth_game_time, ttt=42)\n",
    "print(analyze(fourth_game_data))"
   ]
  },
  {
   "cell_type": "markdown",
   "id": "1dcb7e9f-fe0a-424a-86b9-d08bf1576204",
   "metadata": {},
   "source": [
    "Uh oh. Handicap is going to go up after this one. The first 3 games I improved, but at a course that wasn't my home course I did a little bit worse. Let's see how my 48.5 handicap shifts after this one.\n",
    "\n",
    "Fifth and final game of January! Back at my home course at Northwest Inner 9.\n",
    "\n",
    "LETS...PLAY...GOLF!`"
   ]
  },
  {
   "cell_type": "code",
   "execution_count": 9,
   "id": "c21935c8-18ba-4326-9d84-df6e8da720ab",
   "metadata": {},
   "outputs": [
    {
     "name": "stdout",
     "output_type": "stream",
     "text": [
      "[28, 25, 20, 24, 24]\n",
      "Player: jt (Handicap 48.4 (18 Hole))\n",
      "Course: Northwest_Inner_9\n",
      "Date: Monday_01_16_2023_10:30\n",
      "-------------------------------------------------------------------\n",
      "|HOLE |   1 |   2 |   3 |   4 |   5 |   6 |   7 |   8 |   9 | TOT |\n",
      "-------------------------------------------------------------------\n",
      "|YDS  | 362 | 385 | 301 | 312 |  97 | 389 | 306 | 175 | 310 |2637 |\n",
      "-------------------------------------------------------------------\n",
      "|SI   |   2 |   3 |   4 |   6 |   9 |   1 |   8 |   7 |   5 |     |\n",
      "-------------------------------------------------------------------\n",
      "|PAR  |   4 |   4 |   4 |   4 |   3 |   4 |   4 |   3 |   4 |  34 |\n",
      "-------------------------------------------------------------------\n",
      "|TRGT |   7 |   7 |   7 |   7 |   6 |   7 |   7 |   6 |   7 |  61 |\n",
      "-------------------------------------------------------------------\n",
      "|SHOT |   6 |   6 |   6 |   7 |   3 |   6 |   8 |   6 |   6 |  54 |\n",
      "-------------------------------------------------------------------\n",
      "|SCRE |   2 |   2 |   2 |   3 |   0 |   2 |   4 |   3 |   2 | +20 |\n",
      "-------------------------------------------------------------------\n",
      "|HCAP |  -1 |  -1 |  -1 |   0 |  -3 |  -1 |   1 |   0 |  -1 | -7 |\n",
      "-------------------------------------------------------------------\n",
      "\n",
      "Raw (+20):\n",
      "         Par :  1\n",
      "Double Bogey :  5\n",
      "Triple Bogey :  2\n",
      "          +4 :  1\n",
      "\n",
      "With Handicap (-7):\n",
      "Albatross    :  1\n",
      "Birdie       :  5\n",
      "Par          :  2\n",
      "Bogey        :  1\n",
      "\n",
      "Total Score: 54\n",
      "    \n"
     ]
    }
   ],
   "source": [
    "fifth_game_time = datetime.datetime(2023, 1, 16, 10, 30)\n",
    "fifth_game_scores = [6, 6, 6, 7, 3, 6, 8, 6, 6]\n",
    "fifth_game_data = course.play('jt', fifth_game_scores,\n",
    "                              fifth_game_time, ttt=48)\n",
    "\n",
    "print(analyze(fifth_game_data))"
   ]
  },
  {
   "cell_type": "markdown",
   "id": "71b32be0-e468-47ba-9af2-3581d596c690",
   "metadata": {},
   "source": [
    "Went down by 0.1? Maybe I should explain where my handicaps are coming from...let's take a look at the last bit of my calculate handicap function:"
   ]
  },
  {
   "cell_type": "code",
   "execution_count": 11,
   "id": "7c648115-d9bf-46af-9a84-ebd83d3759ea",
   "metadata": {},
   "outputs": [],
   "source": [
    "def calculate_handicap(scores):\n",
    "    if len(scores) < 3:\n",
    "        scores.append(24)  # Seed score\n",
    "    else:\n",
    "        scores.sort()\n",
    "        scores = scores[1:-1]  # Remove the best and worst if you've played > 3\n",
    "    return float(sum(scores)) / len(scores)"
   ]
  },
  {
   "cell_type": "markdown",
   "id": "88b0c36e-6830-4920-8dcd-3071692b2392",
   "metadata": {},
   "source": [
    "The flow for handicap I wrote out is as follows:\n",
    "\n",
    "-If I've played less than 3 games start me at (24 x 2=) 48 handicap. The first game of golf I scored I would have shot around 48 over par on a standard 18 hole course. Makes my first few handicapped scores reasonable\n",
    "\n",
    "-If more than 3 games, sort them and remove the best and the wrost game. I may tweak this later, but it seems to be a good representation of the *average golf* that I'm playing.\n",
    "\n",
    "Lets graph out my actual shots over par and handicap over my first 5."
   ]
  },
  {
   "cell_type": "code",
   "execution_count": 16,
   "id": "83e47240-56b0-42a0-b130-5a5ae02f6a7a",
   "metadata": {},
   "outputs": [
    {
     "data": {
      "image/png": "[encoded data removed]",
      "text/plain": [
       "<Figure size 432x288 with 1 Axes>"
      ]
     },
     "metadata": {
      "needs_background": "light"
     },
     "output_type": "display_data"
    }
   ],
   "source": [
    "game = [i + 1 for i in range(5)]\n",
    "shot = [28, 24, 20, 24, 20]\n",
    "us_o = [1.6 for i in range(5)]\n",
    "import matplotlib.pyplot as plt\n",
    "plt.plot(game, shot, label='handicap')\n",
    "plt.plot(game, us_o, label='US Open Qualifying Handicap')\n",
    "plt.legend()\n",
    "plt.show()"
   ]
  },
  {
   "cell_type": "code",
   "execution_count": null,
   "id": "62f725b6-17a1-48bf-ae9f-0c6961745397",
   "metadata": {},
   "outputs": [],
   "source": []
  }
 ],
 "metadata": {
  "kernelspec": {
   "display_name": "Python 3 (ipykernel)",
   "language": "python",
   "name": "python3"
  },
  "language_info": {
   "codemirror_mode": {
    "name": "ipython",
    "version": 3
   },
   "file_extension": ".py",
   "mimetype": "text/x-python",
   "name": "python",
   "nbconvert_exporter": "python",
   "pygments_lexer": "ipython3",
   "version": "3.9.13"
  }
 },
 "nbformat": 4,
 "nbformat_minor": 5
}
